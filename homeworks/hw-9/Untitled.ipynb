{
 "cells": [
  {
   "cell_type": "markdown",
   "metadata": {},
   "source": [
    "# Домашнее задание. Основы теории вероятностей"
   ]
  },
  {
   "cell_type": "markdown",
   "metadata": {},
   "source": [
    "### Вопрос 2\n",
    "Брошено 3 игральных кости. Найти вероятность того, что на всех костях выпала \"шестерка\", при условии, что:"
   ]
  },
  {
   "cell_type": "markdown",
   "metadata": {},
   "source": [
    "#### a) По крайней мере на одной кости выпала \"шестерка\""
   ]
  },
  {
   "cell_type": "markdown",
   "metadata": {},
   "source": [
    "Событие А -- на оставшихся костях выпали одинаковые значения:\n",
    "$P(A) = \\frac {1}{6} \\times \\frac{1}{6} = \\frac {1}{6^2} = \\frac {1}{36}$\n",
    "\n",
    "Событие B -- на оставшихся костях выпали шестерки:\n",
    "$P(A) = 1 - \\frac {5}{6} \\times \\frac{5}{6} = \\frac {6^2 - 5^2}{6^2} = \\frac {11}{36}$"
   ]
  },
  {
   "cell_type": "markdown",
   "metadata": {},
   "source": [
    "Тогда, $P(A|B) = \\frac {P(A \\cap B)}{P(B)} = \\frac {\\frac {1}{36}}{\\frac {11}{36}} = \\frac {1}{11} $\n",
    "Ответ: $\\frac {1}{11}$"
   ]
  },
  {
   "cell_type": "markdown",
   "metadata": {},
   "source": [
    "#### b) По крайней мере на двух костях выпало одинаковое кол-во очков"
   ]
  },
  {
   "cell_type": "code",
   "execution_count": null,
   "metadata": {},
   "outputs": [],
   "source": []
  }
 ],
 "metadata": {
  "kernelspec": {
   "display_name": "Python 3",
   "language": "python",
   "name": "python3"
  },
  "language_info": {
   "codemirror_mode": {
    "name": "ipython",
    "version": 3
   },
   "file_extension": ".py",
   "mimetype": "text/x-python",
   "name": "python",
   "nbconvert_exporter": "python",
   "pygments_lexer": "ipython3",
   "version": "3.7.2"
  }
 },
 "nbformat": 4,
 "nbformat_minor": 2
}
